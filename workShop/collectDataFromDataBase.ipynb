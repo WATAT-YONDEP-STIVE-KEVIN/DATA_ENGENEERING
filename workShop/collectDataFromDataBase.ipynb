{
 "cells": [
  {
   "cell_type": "code",
   "execution_count": 53,
   "metadata": {},
   "outputs": [],
   "source": [
    "import psycopg2"
   ]
  },
  {
   "cell_type": "markdown",
   "metadata": {},
   "source": [
    "<center><h2>Connection a la base de données </h2></center>"
   ]
  },
  {
   "cell_type": "code",
   "execution_count": 54,
   "metadata": {},
   "outputs": [],
   "source": [
    "conn = psycopg2.connect(database=\"airlinedb\",user=\"dataengeneer\",host=\"localhost\",password=\"1234\",port=\"5432\")"
   ]
  },
  {
   "cell_type": "markdown",
   "metadata": {},
   "source": [
    "requete qui me permettra de lister les patients ayant un rendez-vous avec le docteur ayant un id=3"
   ]
  },
  {
   "cell_type": "code",
   "execution_count": 55,
   "metadata": {},
   "outputs": [],
   "source": [
    "requete = '''\n",
    "select * from passengers '''"
   ]
  },
  {
   "cell_type": "markdown",
   "metadata": {},
   "source": [
    "execution de la requete"
   ]
  },
  {
   "cell_type": "code",
   "execution_count": 57,
   "metadata": {},
   "outputs": [
    {
     "name": "stdout",
     "output_type": "stream",
     "text": [
      "[(1, 'Anita', 'Desai', datetime.date(1988, 2, 14)), (2, 'Raj', 'Patel', datetime.date(1992, 3, 22)), (3, 'Simran', 'Kapoor', datetime.date(1978, 11, 8))]\n"
     ]
    }
   ],
   "source": [
    "curseur = conn.cursor()\n",
    "\n",
    "curseur.execute(requete)\n",
    "\n",
    "resultat = curseur.fetchall()\n",
    "print(resultat)"
   ]
  },
  {
   "cell_type": "markdown",
   "metadata": {},
   "source": [
    "sauvegarder les données dans un dataFrame"
   ]
  },
  {
   "cell_type": "code",
   "execution_count": 59,
   "metadata": {},
   "outputs": [
    {
     "name": "stdout",
     "output_type": "stream",
     "text": [
      "<class 'pandas.core.frame.DataFrame'>\n",
      "RangeIndex: 3 entries, 0 to 2\n",
      "Data columns (total 4 columns):\n",
      " #   Column        Non-Null Count  Dtype \n",
      "---  ------        --------------  ----- \n",
      " 0   PassengersID  3 non-null      int64 \n",
      " 1   FirstName     3 non-null      object\n",
      " 2   LastName      3 non-null      object\n",
      " 3   DateOfBirth   3 non-null      object\n",
      "dtypes: int64(1), object(3)\n",
      "memory usage: 224.0+ bytes\n"
     ]
    }
   ],
   "source": [
    "import pandas as pd\n",
    "cols = ['PassengersID', 'FirstName', 'LastName', 'DateOfBirth']\n",
    "df = pd.DataFrame(resultat, columns=cols)\n",
    "df.info()"
   ]
  },
  {
   "cell_type": "code",
   "execution_count": 60,
   "metadata": {},
   "outputs": [
    {
     "data": {
      "text/html": [
       "<div>\n",
       "<style scoped>\n",
       "    .dataframe tbody tr th:only-of-type {\n",
       "        vertical-align: middle;\n",
       "    }\n",
       "\n",
       "    .dataframe tbody tr th {\n",
       "        vertical-align: top;\n",
       "    }\n",
       "\n",
       "    .dataframe thead th {\n",
       "        text-align: right;\n",
       "    }\n",
       "</style>\n",
       "<table border=\"1\" class=\"dataframe\">\n",
       "  <thead>\n",
       "    <tr style=\"text-align: right;\">\n",
       "      <th></th>\n",
       "      <th>PassengersID</th>\n",
       "      <th>FirstName</th>\n",
       "      <th>LastName</th>\n",
       "      <th>DateOfBirth</th>\n",
       "    </tr>\n",
       "  </thead>\n",
       "  <tbody>\n",
       "    <tr>\n",
       "      <th>0</th>\n",
       "      <td>1</td>\n",
       "      <td>Anita</td>\n",
       "      <td>Desai</td>\n",
       "      <td>1988-02-14</td>\n",
       "    </tr>\n",
       "    <tr>\n",
       "      <th>1</th>\n",
       "      <td>2</td>\n",
       "      <td>Raj</td>\n",
       "      <td>Patel</td>\n",
       "      <td>1992-03-22</td>\n",
       "    </tr>\n",
       "    <tr>\n",
       "      <th>2</th>\n",
       "      <td>3</td>\n",
       "      <td>Simran</td>\n",
       "      <td>Kapoor</td>\n",
       "      <td>1978-11-08</td>\n",
       "    </tr>\n",
       "  </tbody>\n",
       "</table>\n",
       "</div>"
      ],
      "text/plain": [
       "   PassengersID FirstName LastName DateOfBirth\n",
       "0             1     Anita    Desai  1988-02-14\n",
       "1             2       Raj    Patel  1992-03-22\n",
       "2             3    Simran   Kapoor  1978-11-08"
      ]
     },
     "execution_count": 60,
     "metadata": {},
     "output_type": "execute_result"
    }
   ],
   "source": [
    "df.head()"
   ]
  },
  {
   "cell_type": "code",
   "execution_count": 61,
   "metadata": {},
   "outputs": [],
   "source": [
    "#Sauvegarder les donnnées dans un fichier airlinedb.csv\n",
    "\n",
    "df.to_csv('./datas/airlinedb.csv')"
   ]
  },
  {
   "cell_type": "markdown",
   "metadata": {},
   "source": [
    "Ceci n'est qu'un exemple tres basique le but etant de vous montrer comment cela marche en realité, de meme vous pouvez mettre a jour  les informations de la BD ainsi qu'inserer les inforamations"
   ]
  }
 ],
 "metadata": {
  "kernelspec": {
   "display_name": "Python 3",
   "language": "python",
   "name": "python3"
  },
  "language_info": {
   "codemirror_mode": {
    "name": "ipython",
    "version": 3
   },
   "file_extension": ".py",
   "mimetype": "text/x-python",
   "name": "python",
   "nbconvert_exporter": "python",
   "pygments_lexer": "ipython3",
   "version": "3.10.12"
  }
 },
 "nbformat": 4,
 "nbformat_minor": 2
}
