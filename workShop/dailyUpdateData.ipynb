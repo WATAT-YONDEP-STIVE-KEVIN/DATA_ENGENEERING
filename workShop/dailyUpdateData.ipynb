{
 "cells": [
  {
   "cell_type": "code",
   "execution_count": 7,
   "metadata": {},
   "outputs": [],
   "source": [
    "import pandas as pd\n",
    "import openpyxl\n",
    "import time "
   ]
  },
  {
   "cell_type": "code",
   "execution_count": 4,
   "metadata": {},
   "outputs": [],
   "source": [
    "def updatePatientData():\n",
    "    newData = pd.read_csv('./datas/newPatientData.csv')  #Charger les données des dernieres 24H de l'hopital\n",
    "    patientsData = pd.read_csv('./datas/oldPatientsData.csv')#Charger les données  anciennes\n",
    "    updateData = pd.concat([patientsData, newData], ignore_index=True)\n",
    "    updateData.drop_duplicates(inplace=True) #supprimer les doublons dans les données\n",
    "    updateData.to_csv('./datas/cleanPatientsDataUpdate.csv', index=False)"
   ]
  },
  {
   "cell_type": "code",
   "execution_count": 5,
   "metadata": {},
   "outputs": [],
   "source": [
    "updatePatientData()"
   ]
  },
  {
   "cell_type": "code",
   "execution_count": null,
   "metadata": {},
   "outputs": [],
   "source": [
    "import schedule\n",
    "\n",
    "schedule.every().day.at('12:00').do(updatePatientData)  # Pour mettre à jour les données à exactement 12:00\n",
    "decision = True\n",
    "while decision:\n",
    "    schedule.run_pending()\n",
    "    time.sleep(12)  # Sleep for 1 second"
   ]
  }
 ],
 "metadata": {
  "kernelspec": {
   "display_name": "Python 3",
   "language": "python",
   "name": "python3"
  },
  "language_info": {
   "codemirror_mode": {
    "name": "ipython",
    "version": 3
   },
   "file_extension": ".py",
   "mimetype": "text/x-python",
   "name": "python",
   "nbconvert_exporter": "python",
   "pygments_lexer": "ipython3",
   "version": "3.10.12"
  }
 },
 "nbformat": 4,
 "nbformat_minor": 2
}
