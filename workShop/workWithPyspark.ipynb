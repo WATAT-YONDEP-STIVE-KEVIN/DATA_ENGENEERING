{
 "cells": [
  {
   "cell_type": "code",
   "execution_count": 9,
   "metadata": {},
   "outputs": [],
   "source": [
    "from pyspark.sql import SparkSession\n"
   ]
  },
  {
   "cell_type": "code",
   "execution_count": 10,
   "metadata": {},
   "outputs": [],
   "source": [
    "spark = SparkSession.builder.appName(\"PySparkIntroduction\").getOrCreate()\n"
   ]
  },
  {
   "cell_type": "markdown",
   "metadata": {},
   "source": [
    "<center>Nous allons supposer utiliser les données patientData.csv </center>"
   ]
  },
  {
   "cell_type": "code",
   "execution_count": 11,
   "metadata": {},
   "outputs": [
    {
     "name": "stderr",
     "output_type": "stream",
     "text": [
      "                                                                                \r"
     ]
    },
    {
     "name": "stdout",
     "output_type": "stream",
     "text": [
      "root\n",
      " |-- PatientID: double (nullable = true)\n",
      " |--  FirstName: string (nullable = true)\n",
      " |--  LastName: string (nullable = true)\n",
      " |--  DateOfBirth: string (nullable = true)\n",
      " |--  VisitDate: string (nullable = true)\n",
      " |--  Diagnosis;: string (nullable = true)\n",
      " |-- 1: string (nullable = true)\n",
      " |--  ’Rahul’: string (nullable = true)\n",
      " |--  ’Sharma’: string (nullable = true)\n",
      " |--  ’1985-04-23’: string (nullable = true)\n",
      " |--  ’2024-08-01’: string (nullable = true)\n",
      " |--  ’cholera’;: string (nullable = true)\n",
      "\n"
     ]
    }
   ],
   "source": [
    "patients = spark.read.csv('./datas/cleanPatientsDataUpdate.csv', header=True, inferSchema=True)#Chargement des données\n",
    "patients.printSchema()#affichage du schema"
   ]
  },
  {
   "cell_type": "code",
   "execution_count": 12,
   "metadata": {},
   "outputs": [
    {
     "name": "stdout",
     "output_type": "stream",
     "text": [
      "+---------+----------+---------+-------------+-------------+----------------+----+--------+---------+-------------+-------------+-----------+\n",
      "|PatientID| FirstName| LastName|  DateOfBirth|    VisitDate|      Diagnosis;|   1| ’Rahul’| ’Sharma’| ’1985-04-23’| ’2024-08-01’| ’cholera’;|\n",
      "+---------+----------+---------+-------------+-------------+----------------+----+--------+---------+-------------+-------------+-----------+\n",
      "|      1.0|   ’Rahul’| ’Sharma’| ’1985-04-23’| ’2024-08-01’|        ’Fever’;|NULL|    NULL|     NULL|         NULL|         NULL|       NULL|\n",
      "|      2.0|   ’Priya’|  ’Kumar’| ’1990-07-11’| ’2024-08-02’|     ’Diabetes’;|NULL|    NULL|     NULL|         NULL|         NULL|       NULL|\n",
      "|      3.0|    ’Amit’|  ’Singh’| ’1975-09-17’| ’2024-08-03’| ’Hypertension’;|NULL|    NULL|     NULL|         NULL|         NULL|       NULL|\n",
      "+---------+----------+---------+-------------+-------------+----------------+----+--------+---------+-------------+-------------+-----------+\n",
      "\n"
     ]
    }
   ],
   "source": [
    "patients.show()#Affichage des premieres lignes des données"
   ]
  }
 ],
 "metadata": {
  "kernelspec": {
   "display_name": "Python 3",
   "language": "python",
   "name": "python3"
  },
  "language_info": {
   "codemirror_mode": {
    "name": "ipython",
    "version": 3
   },
   "file_extension": ".py",
   "mimetype": "text/x-python",
   "name": "python",
   "nbconvert_exporter": "python",
   "pygments_lexer": "ipython3",
   "version": "3.10.12"
  }
 },
 "nbformat": 4,
 "nbformat_minor": 2
}
